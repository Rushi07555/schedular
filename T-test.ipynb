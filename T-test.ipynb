{
 "cells": [
  {
   "cell_type": "code",
   "execution_count": null,
   "metadata": {},
   "outputs": [],
   "source": [
    "import pandas as pd\n",
    "from scipy import stats"
   ]
  },
  {
   "cell_type": "code",
   "execution_count": null,
   "metadata": {},
   "outputs": [],
   "source": [
    "prod = pd.read_csv('./data/feature_data/Op303Mobile/prod.csv')\n",
    "exp = pd.read_csv('./data/feature_data/Op303Mobile/exp.csv')"
   ]
  },
  {
   "cell_type": "code",
   "execution_count": null,
   "metadata": {},
   "outputs": [],
   "source": [
    "prod['status'] = 'production'\n",
    "exp['status'] = 'experiment'\n",
    "\n",
    "print(len(prod.columns))\n",
    "print(len(exp.columns))\n",
    "\n",
    "df = pd.concat([prod, exp], ignore_index = True)"
   ]
  },
  {
   "cell_type": "code",
   "execution_count": null,
   "metadata": {},
   "outputs": [],
   "source": [
    "cols = ['mean_PID', 'std_PID', 'min_PID', '0.25_PID', '0.50_PID', '0.75_PID', 'max_PID',\n",
    "         'Quart1_ampl_PID', 'Quart2_ampl_PID', 'Quart3_ampl_PID', 'crest_factor_PID', 'roughnessAverage_PID',\n",
    "         'rms_PID', 'shape_factor_PID', 'peak_PID', 'clearance_factor_PID', 'impulse_factor_PID', 'Skewness_value_PID',\n",
    "         'Kurtosis_value_PID', 'mean_r_PID', 'std_r_PID', 'min_r_PID',\n",
    "         '0.25_r_PID', '0.50_r_PID', '0.75_r_PID', 'max_r_PID', 'Quart1_ampl_r_PID', 'Quart2_ampl_r_PID',\n",
    "         'Quart3_ampl_r_PID', 'crest_factor_r_PID', 'roughnessAverage_r_PID', 'rms_r_PID', 'shape_factor_r_PID',\n",
    "         'peak_r_PID', 'clearance_factor_r_PID', 'impulse_factor_r_PID', 'Skewness_value_r_PID', \n",
    "         'Kurtosis_value_r_PID', 'mean_f_PID', 'std_f_PID', 'min_f_PID',\n",
    "         '0.25_f_PID', '0.50_f_PID', '0.75_f_PID', 'max_f_PID', 'Quart1_ampl_f_PID', 'Quart2_ampl_f_PID',\n",
    "         'Quart3_ampl_f_PID', 'crest_factor_f_PID', 'roughnessAverage_f_PID', 'rms_f_PID', 'shape_factor_f_PID',\n",
    "         'peak_f_PID', 'clearance_factor_f_PID', 'impulse_factor_f_PID', 'Skewness_value_f_PID',\n",
    "         'Kurtosis_value_f_PID', 'integral_PID', 'integral_r_PID', 'integral_f_PID']"
   ]
  },
  {
   "cell_type": "code",
   "execution_count": null,
   "metadata": {},
   "outputs": [],
   "source": [
    "def t_test_run(features_list, training_df, p_val_cutoff=0.05):\n",
    "    # TODO: Change name of `significant_parameter_df` - this is all parameters\n",
    "\n",
    "    # Creating empty lists for t-test outputs\n",
    "    variable_name = []\n",
    "    t_statistic_val = []\n",
    "    p_val = []\n",
    "    significance = []\n",
    "    degrees_of_freedom = []\n",
    "\n",
    " \n",
    "\n",
    "    # Separate into production and experiment\n",
    "    production_features = training_df[training_df['status'] == 'production']\n",
    "    experiment_features = training_df[training_df['status'] == 'experiment']\n",
    "\n",
    " \n",
    "\n",
    "    # Cycle through each feature\n",
    "    for feature in features_list:\n",
    "        production_sample = production_features[feature]\n",
    "        experiment_sample = experiment_features[feature]\n",
    "\n",
    " \n",
    "\n",
    "        t_statistic, p_value = stats.ttest_ind(\n",
    "            production_sample, experiment_sample, equal_var=False)\n",
    "\n",
    " \n",
    "\n",
    "        variable_name.append(feature)\n",
    "        t_statistic_val.append(t_statistic)\n",
    "        p_val.append(p_value)\n",
    "        if p_value < p_val_cutoff:\n",
    "            significance.append('***')\n",
    "        else:\n",
    "            significance.append('.')\n",
    "\n",
    " \n",
    "\n",
    "        degrees_freedom = len(production_sample) + len(experiment_sample) - 2\n",
    "        degrees_of_freedom.append(degrees_freedom)\n",
    "\n",
    " \n",
    "\n",
    "    t_test_result = pd.DataFrame({'Variable': variable_name,\n",
    "                                  'Test statistic': t_statistic_val,\n",
    "                                  'P values': p_val,\n",
    "                                  'Degrees of freedom': degrees_of_freedom,\n",
    "                                  'Significance': significance})\n",
    "\n",
    " \n",
    "\n",
    "    significant_parameter_df = list(\n",
    "        t_test_result[t_test_result['P values'] < p_val_cutoff]['Variable'])\n",
    "\n",
    " \n",
    "\n",
    "    return t_test_result, significant_parameter_df"
   ]
  },
  {
   "cell_type": "code",
   "execution_count": null,
   "metadata": {},
   "outputs": [],
   "source": [
    "t_test_result, significant_parameter_df = t_test_run(cols, df, 0.05)"
   ]
  },
  {
   "cell_type": "code",
   "execution_count": null,
   "metadata": {},
   "outputs": [],
   "source": [
    "print(t_test_result)"
   ]
  },
  {
   "cell_type": "code",
   "execution_count": null,
   "metadata": {},
   "outputs": [],
   "source": [
    "print(significant_parameter_df)"
   ]
  },
  {
   "cell_type": "code",
   "execution_count": null,
   "metadata": {},
   "outputs": [],
   "source": []
  },
  {
   "cell_type": "code",
   "execution_count": null,
   "metadata": {},
   "outputs": [],
   "source": []
  },
  {
   "cell_type": "code",
   "execution_count": null,
   "metadata": {},
   "outputs": [],
   "source": []
  },
  {
   "cell_type": "code",
   "execution_count": null,
   "metadata": {},
   "outputs": [],
   "source": []
  }
 ],
 "metadata": {
  "kernelspec": {
   "display_name": "Python 3",
   "language": "python",
   "name": "python3"
  },
  "language_info": {
   "codemirror_mode": {
    "name": "ipython",
    "version": 3
   },
   "file_extension": ".py",
   "mimetype": "text/x-python",
   "name": "python",
   "nbconvert_exporter": "python",
   "pygments_lexer": "ipython3",
   "version": "3.8.5"
  }
 },
 "nbformat": 4,
 "nbformat_minor": 4
}
